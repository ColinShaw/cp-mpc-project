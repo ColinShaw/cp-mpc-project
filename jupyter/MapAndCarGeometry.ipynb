{
 "cells": [
  {
   "cell_type": "markdown",
   "metadata": {},
   "source": [
    "# Map and Car Geometry \n",
    "\n",
    "This is just a toy notebook for verifying coordinate transformation between the map coordinates and the car coordinates.  The data being used for `ptsx` and `ptsy` is the waypoint data returned by telemetry from the simulator when the car first starts on the track.  The `x` and `y` values, as well as the `psi` and `psi_unity` values are likewise from this first telemetry sample.  The first plot simply plots the waypoints and the location of the car.  The green dot is a dot projected in the direction `psi` so that it is clear what direction the car is facing (as well as eliminating `psi_unity` as an appropriate angle to use)."
   ]
  },
  {
   "cell_type": "code",
   "execution_count": 18,
   "metadata": {
    "collapsed": false
   },
   "outputs": [
    {
     "data": {
      "text/plain": [
       "[]"
      ]
     },
     "execution_count": 18,
     "metadata": {},
     "output_type": "execute_result"
    },
    {
     "data": {
      "image/png": "[encoded data removed]",
      "text/plain": [
       "<matplotlib.figure.Figure at 0x7f17a027e610>"
      ]
     },
     "metadata": {},
     "output_type": "display_data"
    }
   ],
   "source": [
    "import math\n",
    "import matplotlib.pyplot as plt\n",
    "%matplotlib inline\n",
    "\n",
    "\n",
    "# Car location\n",
    "x = -40.62\n",
    "y = 108.73\n",
    "\n",
    "# Car direction\n",
    "psi_unity = 4.12033\n",
    "psi = 3.733651\n",
    "\n",
    "# Waypoint locations\n",
    "ptsx = [-32.16173, -43.49173, -61.09, -78.29172, -93.05002, -107.7717]\n",
    "ptsy = [113.361, 105.941, 92.88499, 78.73102, 65.34102, 50.57938]\n",
    "\n",
    "# Projection in the direction psi to see the car heading\n",
    "x2 = x + 10.0 * math.cos(psi)\n",
    "y2 = y + 10.0 * math.sin(psi)\n",
    "\n",
    "# Basic plot of map coordinates \n",
    "plt.scatter(ptsx, ptsy, color='blue')\n",
    "plt.scatter(x, y, color='red')\n",
    "plt.scatter(x2, y2, color='green')\n",
    "plt.plot()\n"
   ]
  },
  {
   "cell_type": "markdown",
   "metadata": {},
   "source": [
    "Here is a transformation function that takes an origin point, the point to transform and the direction to rotate.  The waypoints are transformed using this function and plotted in the same way as before.  The heading is not displayed since we are rotating it to be pointing directly in the positive `x` direction."
   ]
  },
  {
   "cell_type": "code",
   "execution_count": 19,
   "metadata": {
    "collapsed": false
   },
   "outputs": [
    {
     "data": {
      "text/plain": [
       "[]"
      ]
     },
     "execution_count": 19,
     "metadata": {},
     "output_type": "execute_result"
    },
    {
     "data": {
      "image/png": "[encoded data removed]",
      "text/plain": [
       "<matplotlib.figure.Figure at 0x7f179fec1490>"
      ]
     },
     "metadata": {},
     "output_type": "display_data"
    }
   ],
   "source": [
    "# Coordinate transformation function\n",
    "def transform(x0, y0, x, y, angle):\n",
    "    x1 = x - x0\n",
    "    y1 = y - y0\n",
    "    x2 = x1 * math.cos(angle) + y1 * math.sin(angle)\n",
    "    y2 = x1 * -math.sin(angle) + y1 * math.cos(angle)\n",
    "    return x2, y2\n",
    "\n",
    "# Generate transformed coordinates\n",
    "new_x = []\n",
    "new_y = []\n",
    "for i, _ in enumerate(ptsx):\n",
    "    x2, y2 = transform(x, y, ptsx[i], ptsy[i], psi)\n",
    "    new_x.append(x2)\n",
    "    new_y.append(y2)\n",
    "    \n",
    "# Plot it\n",
    "plt.scatter(new_x, new_y, color='blue')\n",
    "plt.scatter(0, 0, color='red')\n",
    "plt.plot()"
   ]
  },
  {
   "cell_type": "markdown",
   "metadata": {},
   "source": [
    "This looks like it meets expectation. The road curves gently to the left on this section of the track, and from our perspective facing directly to the right on the `x` axis, the waypoints gently increase in the `y` value, indicative of a a right-hand coordinate system with `x` being straigh ahead (e.g. positive `y` is bearing left).  "
   ]
  },
  {
   "cell_type": "code",
   "execution_count": null,
   "metadata": {
    "collapsed": true
   },
   "outputs": [],
   "source": []
  }
 ],
 "metadata": {
  "anaconda-cloud": {},
  "kernelspec": {
   "display_name": "Python [conda env:opencv]",
   "language": "python",
   "name": "conda-env-opencv-py"
  },
  "language_info": {
   "codemirror_mode": {
    "name": "ipython",
    "version": 2
   },
   "file_extension": ".py",
   "mimetype": "text/x-python",
   "name": "python",
   "nbconvert_exporter": "python",
   "pygments_lexer": "ipython2",
   "version": "2.7.12"
  }
 },
 "nbformat": 4,
 "nbformat_minor": 1
}
